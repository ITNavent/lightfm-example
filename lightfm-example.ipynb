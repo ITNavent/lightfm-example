{
 "cells": [
  {
   "cell_type": "code",
   "execution_count": 145,
   "metadata": {},
   "outputs": [],
   "source": [
    "import numpy as np\n",
    "from lightfm import LightFM\n",
    "from lightfm.evaluation import precision_at_k\n",
    "from lightfm.datasets import fetch_movielens"
   ]
  },
  {
   "cell_type": "code",
   "execution_count": 146,
   "metadata": {},
   "outputs": [],
   "source": [
    "data = fetch_movielens(min_rating=5.0, indicator_features = True, genre_features = True)"
   ]
  },
  {
   "cell_type": "code",
   "execution_count": 147,
   "metadata": {},
   "outputs": [],
   "source": [
    "data_train = data['train']\n",
    "data_test = data['test']\n",
    "data_item_features = data['item_features']"
   ]
  },
  {
   "cell_type": "code",
   "execution_count": 148,
   "metadata": {},
   "outputs": [],
   "source": [
    "### Baseline: no features"
   ]
  },
  {
   "cell_type": "code",
   "execution_count": 149,
   "metadata": {},
   "outputs": [
    {
     "name": "stdout",
     "output_type": "stream",
     "text": [
      "CPU times: user 678 ms, sys: 7.96 ms, total: 686 ms\n",
      "Wall time: 344 ms\n",
      "Train precision: 0.28505\n",
      "Test precision: 0.03600\n"
     ]
    }
   ],
   "source": [
    "model = LightFM(loss='warp')\n",
    "%time model.fit(data_train, epochs=30, num_threads=2)\n",
    "print(\"Train precision: %.5f\" % precision_at_k(model, data_train, k=20).mean())\n",
    "print(\"Test precision: %.5f\" % precision_at_k(model, data_test, k=20).mean())"
   ]
  },
  {
   "cell_type": "code",
   "execution_count": 150,
   "metadata": {},
   "outputs": [],
   "source": [
    "### Adding Item features"
   ]
  },
  {
   "cell_type": "code",
   "execution_count": 151,
   "metadata": {},
   "outputs": [
    {
     "name": "stdout",
     "output_type": "stream",
     "text": [
      "CPU times: user 989 ms, sys: 14 µs, total: 989 ms\n",
      "Wall time: 497 ms\n",
      "Train precision: 0.30115\n",
      "Test precision: 0.03573\n"
     ]
    }
   ],
   "source": [
    "model_item_features = LightFM(loss='warp')\n",
    "%time model_item_features.fit(data_train, item_features= data_item_features, epochs=30, num_threads=2)\n",
    "print(\"Train precision: %.5f\" % precision_at_k(model_item_features, data_train, item_features= data_item_features, k=20).mean())\n",
    "print(\"Test precision: %.5f\" % precision_at_k(model_item_features, data_test, item_features= data_item_features, k=20).mean())"
   ]
  },
  {
   "cell_type": "code",
   "execution_count": 152,
   "metadata": {},
   "outputs": [
    {
     "name": "stdout",
     "output_type": "stream",
     "text": [
      "Is the model with feature better than the baseline? False\n"
     ]
    }
   ],
   "source": [
    "isbetter = precision_at_k(model, data_test, k=20).mean() < precision_at_k(model_item_features, data_test, item_features= data_item_features, k=20).mean()\n",
    "print(\"Is the model with feature better than the baseline? %s\" % isbetter)"
   ]
  },
  {
   "cell_type": "code",
   "execution_count": 153,
   "metadata": {},
   "outputs": [],
   "source": [
    "### Separate from unknown and known user to test if cold start effect is mitigated \n",
    "# unknown user: user that do not have interaction in train\n",
    "# known user: the opposite"
   ]
  },
  {
   "cell_type": "code",
   "execution_count": 154,
   "metadata": {},
   "outputs": [],
   "source": [
    "import pandas as pd\n",
    "data_train_df = pd.DataFrame(data_train.toarray())"
   ]
  },
  {
   "cell_type": "code",
   "execution_count": 155,
   "metadata": {},
   "outputs": [],
   "source": [
    "unknown_users = data_train_df[(data_train_df==0).all(axis=1)]\n",
    "unknown_users = list(unknown_users.index.values)"
   ]
  },
  {
   "cell_type": "code",
   "execution_count": 156,
   "metadata": {},
   "outputs": [],
   "source": [
    "known_users = data_train_df[(data_train_df==5).any(axis=1)]\n",
    "known_users = list(known_users.index.values)"
   ]
  },
  {
   "cell_type": "code",
   "execution_count": 157,
   "metadata": {},
   "outputs": [],
   "source": [
    "data_test_df = pd.DataFrame(data_test.toarray())\n",
    "data_test_df_known_users = data_test_df[data_test_df.index.isin(known_users)]\n",
    "data_test_df_known_users = data_test_df_known_users.reindex(list(range(data_train.shape[0])), fill_value=0.0)"
   ]
  },
  {
   "cell_type": "code",
   "execution_count": 158,
   "metadata": {},
   "outputs": [],
   "source": [
    "data_test_df_unknown_users = data_test_df[data_test_df.index.isin(unknown_users)]\n",
    "data_test_df_unknown_users = data_test_df_unknown_users.reindex(list(range(data_train.shape[0])), fill_value=0.0)"
   ]
  },
  {
   "cell_type": "code",
   "execution_count": 159,
   "metadata": {},
   "outputs": [
    {
     "name": "stdout",
     "output_type": "stream",
     "text": [
      "Test unknown precision: 0.02667\n",
      "Test known precision: 0.02667\n"
     ]
    }
   ],
   "source": [
    "### Baseline: no features\n",
    "print(\"Test unknown precision: %.5f\" % precision_at_k(model, coo_matrix(data_test_df_unknown_users), k=20).mean())\n",
    "print(\"Test known precision: %.5f\" % precision_at_k(model, coo_matrix(data_test_df_unknown_users), k=20).mean())"
   ]
  },
  {
   "cell_type": "code",
   "execution_count": 160,
   "metadata": {},
   "outputs": [
    {
     "name": "stdout",
     "output_type": "stream",
     "text": [
      "CPU times: user 1 s, sys: 200 µs, total: 1 s\n",
      "Wall time: 504 ms\n",
      "Train precision: 0.29682\n",
      "Test unknown precision: 0.02333\n",
      "Test known precision: 0.02333\n"
     ]
    }
   ],
   "source": [
    "### Adding Item features\n",
    "model_item_features = LightFM(loss='warp')\n",
    "%time model_item_features.fit(data_train, item_features= data_item_features, epochs=30, num_threads=2)\n",
    "print(\"Train precision: %.5f\" % precision_at_k(model_item_features, data_train, item_features= coo_matrix(data_item_features), k=20).mean())\n",
    "print(\"Test unknown precision: %.5f\" % precision_at_k(model_item_features, coo_matrix(data_test_df_unknown_users), item_features= coo_matrix(data_item_features), k=20).mean())\n",
    "print(\"Test known precision: %.5f\" % precision_at_k(model_item_features, coo_matrix(data_test_df_unknown_users), item_features= coo_matrix(data_item_features), k=20).mean())"
   ]
  },
  {
   "cell_type": "code",
   "execution_count": 161,
   "metadata": {},
   "outputs": [
    {
     "name": "stdout",
     "output_type": "stream",
     "text": [
      "Is the model with feature better than the baseline for unknown users? False\n"
     ]
    }
   ],
   "source": [
    "isbetter = precision_at_k(model, coo_matrix(data_test_df_unknown_users), k=20).mean() < precision_at_k(model_item_features, coo_matrix(data_test_df_unknown_users), item_features= coo_matrix(data_item_features), k=20).mean()\n",
    "print(\"Is the model with feature better than the baseline for unknown users? %s\" % isbetter)"
   ]
  },
  {
   "cell_type": "code",
   "execution_count": 162,
   "metadata": {},
   "outputs": [],
   "source": [
    "### Adding User features"
   ]
  },
  {
   "cell_type": "code",
   "execution_count": 163,
   "metadata": {},
   "outputs": [],
   "source": [
    "users_features = pd.read_csv('u.user', delimiter='|', names= ['age', 'sex', 'profession', 'zipcode'])\n",
    "users_features_dummies = pd.get_dummies(users_features)"
   ]
  },
  {
   "cell_type": "code",
   "execution_count": 164,
   "metadata": {},
   "outputs": [],
   "source": [
    "import scipy.sparse as sp\n",
    "\n",
    "eye = sp.eye(data_train.shape[0], data_train.shape[0]).tocsr()\n",
    "user_features_matrix = sp.hstack((eye, users_features_dummies))\n",
    "user_features_matrix = user_features_matrix.tocsr().astype(np.float32)\n",
    "user_features_matrix_coo = coo_matrix(user_features_matrix)"
   ]
  },
  {
   "cell_type": "code",
   "execution_count": 165,
   "metadata": {},
   "outputs": [],
   "source": [
    "# Showing the size of all the matrix not to get lost"
   ]
  },
  {
   "cell_type": "code",
   "execution_count": 166,
   "metadata": {},
   "outputs": [
    {
     "name": "stdout",
     "output_type": "stream",
     "text": [
      "users x items: <943x1682 sparse matrix of type '<class 'numpy.float32'>'\n",
      "\twith 19048 stored elements in COOrdinate format>\n",
      "known users x items: <943x1682 sparse matrix of type '<class 'numpy.float64'>'\n",
      "\twith 2128 stored elements in COOrdinate format>\n",
      "unknown users x items: <943x1682 sparse matrix of type '<class 'numpy.float64'>'\n",
      "\twith 25 stored elements in COOrdinate format>\n",
      "items x features_items: <1682x1701 sparse matrix of type '<class 'numpy.float32'>'\n",
      "\twith 4575 stored elements in COOrdinate format>\n",
      "users x features_users: <943x1762 sparse matrix of type '<class 'numpy.float32'>'\n",
      "\twith 4715 stored elements in COOrdinate format>\n"
     ]
    }
   ],
   "source": [
    "print(\"users x items: \" + repr(data_train))\n",
    "print(\"known users x items: \" + repr(coo_matrix(data_test_df_known_users)))\n",
    "print(\"unknown users x items: \" + repr(coo_matrix(data_test_df_unknown_users)))\n",
    "print(\"items x features_items: \" + repr(coo_matrix(data_item_features)))\n",
    "print(\"users x features_users: \" + repr(user_features_matrix_coo))"
   ]
  },
  {
   "cell_type": "code",
   "execution_count": 167,
   "metadata": {},
   "outputs": [
    {
     "name": "stdout",
     "output_type": "stream",
     "text": [
      "CPU times: user 1.19 s, sys: 7.97 ms, total: 1.19 s\n",
      "Wall time: 599 ms\n",
      "Train precision: 0.12519\n",
      "Test unknown precision: 0.00667\n",
      "Test known precision: 0.00667\n"
     ]
    }
   ],
   "source": [
    "model_item_users_features = LightFM(loss='warp')\n",
    "%time model_item_users_features.fit(data_train, item_features= coo_matrix(data_item_features), user_features=user_features_matrix_coo, epochs=30, num_threads=2)\n",
    "print(\"Train precision: %.5f\" % precision_at_k(model_item_users_features, data_train, item_features= coo_matrix(data_item_features), user_features=user_features_matrix_coo, k=20).mean())\n",
    "print(\"Test unknown precision: %.5f\" % precision_at_k(model_item_users_features, coo_matrix(data_test_df_unknown_users), item_features= coo_matrix(data_item_features), user_features=user_features_matrix_coo, k=20).mean())\n",
    "print(\"Test known precision: %.5f\" % precision_at_k(model_item_users_features, coo_matrix(data_test_df_unknown_users), item_features= coo_matrix(data_item_features), user_features=user_features_matrix_coo, k=20).mean())"
   ]
  },
  {
   "cell_type": "code",
   "execution_count": 171,
   "metadata": {},
   "outputs": [
    {
     "name": "stdout",
     "output_type": "stream",
     "text": [
      "Is the model with feature user-item better than the baseline for unknown users? False\n"
     ]
    }
   ],
   "source": [
    "isbetter = precision_at_k(model, coo_matrix(data_test_df_unknown_users), k=20).mean() < precision_at_k(model_item_users_features, coo_matrix(data_test_df_unknown_users), item_features= coo_matrix(data_item_features), user_features=user_features_matrix_coo, k=20).mean()\n",
    "print(\"Is the model with feature user-item better than the baseline for unknown users? %s\" % isbetter)"
   ]
  },
  {
   "cell_type": "code",
   "execution_count": 175,
   "metadata": {},
   "outputs": [],
   "source": [
    "# Showing some films for unknown users\n",
    "def sample_recommendation(model, data, user_id):\n",
    "    \n",
    "    print(users_features[user_id-1: user_id])\n",
    "    n_users, n_items = data['train'].shape\n",
    "    \n",
    "    known_positives = data['item_labels'][data['train'].tocsr()[user_id].indices]\n",
    "    scores = model.predict(user_id, np.arange(n_items))\n",
    "    top_items = data['item_labels'][np.argsort(-scores)]\n",
    "    \n",
    "    print(\"     Known positives:\")\n",
    "    for x in known_positives[:3]:\n",
    "        print(\"        %s\" % x)\n",
    "\n",
    "    print(\"     Recommended:\")\n",
    "    for x in top_items[:3]:\n",
    "        print(\"        %s\" % x)"
   ]
  },
  {
   "cell_type": "code",
   "execution_count": 176,
   "metadata": {},
   "outputs": [
    {
     "name": "stdout",
     "output_type": "stream",
     "text": [
      "     age sex profession zipcode\n",
      "899   32   M      other   55116\n",
      "     Known positives:\n",
      "     Recommended:\n",
      "        English Patient, The (1996)\n",
      "        Star Wars (1977)\n",
      "        Titanic (1997)\n",
      "     age sex profession zipcode\n",
      "899   32   M      other   55116\n",
      "     Known positives:\n",
      "     Recommended:\n",
      "        Titanic (1997)\n",
      "        Fargo (1996)\n",
      "        Pulp Fiction (1994)\n"
     ]
    }
   ],
   "source": [
    "sample_recommendation(model, data, 899) \n",
    "sample_recommendation(model_item_users_features, data, 899) "
   ]
  }
 ],
 "metadata": {
  "kernelspec": {
   "display_name": "Python 3",
   "language": "python",
   "name": "python3"
  },
  "language_info": {
   "codemirror_mode": {
    "name": "ipython",
    "version": 3
   },
   "file_extension": ".py",
   "mimetype": "text/x-python",
   "name": "python",
   "nbconvert_exporter": "python",
   "pygments_lexer": "ipython3",
   "version": "3.6.4"
  }
 },
 "nbformat": 4,
 "nbformat_minor": 2
}
